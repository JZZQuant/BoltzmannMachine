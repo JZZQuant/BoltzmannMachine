{
 "cells": [
  {
   "cell_type": "code",
   "execution_count": 59,
   "metadata": {
    "collapsed": false
   },
   "outputs": [],
   "source": [
    "import pandas as pd\n",
    "\n",
    "train_X=pd.read_csv(\"train.csv\")\n",
    "test_X=pd.read_csv(\"test.csv\")\n",
    "zero_rows=train_X[train_X[\"TARGET\"]==1]"
   ]
  },
  {
   "cell_type": "code",
   "execution_count": 60,
   "metadata": {
    "collapsed": false
   },
   "outputs": [],
   "source": [
    "rbm_input=zero_rows.ix[:,1:-1]\n",
    "rbm_target=zero_rows.ix[:,-1]\n",
    "logistic_train_input=train_X.ix[:len(train)*0.7,1:-1]\n",
    "logistic_train_output=train_X.ix[:len(train)*0.7,1:-1]\n",
    "logistic_test_input=train_X.ix[len(train)*0.7:,1:-1]\n",
    "logistic_test_output=train_X.ix[len(train)*0.7:,1:-1]\n",
    "final_test_input=test_X.ix[:,1:-1]\n",
    "final_test_ids=test_X.ix[:,0]\n",
    "\n",
    "rbm = rbm_input,rbm_target\n",
    "train= logistic_train_input,logistic_train_output\n",
    "test=logistic_test_input,logistic_test_output\n",
    "valid=final_test_input,final_test_ids"
   ]
  },
  {
   "cell_type": "code",
   "execution_count": 37,
   "metadata": {
    "collapsed": false
   },
   "outputs": [
    {
     "data": {
      "text/plain": [
       "array([   0,    0,    0, ..., 7591, 7591, 7591])"
      ]
     },
     "execution_count": 37,
     "metadata": {},
     "output_type": "execute_result"
    }
   ],
   "source": [
    "theano.shared(np.asarray(rbm_input ,dtype=theano.config.floatX))"
   ]
  },
  {
   "cell_type": "code",
   "execution_count": 68,
   "metadata": {
    "collapsed": false
   },
   "outputs": [
    {
     "name": "stderr",
     "output_type": "stream",
     "text": [
      "Using gpu device 0: GeForce GT 730M\n"
     ]
    },
    {
     "data": {
      "text/plain": [
       "array([[  2.00000000e+00,   6.60000000e+01,   0.00000000e+00, ...,\n",
       "          0.00000000e+00,   0.00000000e+00,   6.33248984e+04],\n",
       "       [  2.00000000e+00,   4.50000000e+01,   0.00000000e+00, ...,\n",
       "          0.00000000e+00,   0.00000000e+00,   1.24988250e+05],\n",
       "       [  2.00000000e+00,   4.20000000e+01,   0.00000000e+00, ...,\n",
       "          0.00000000e+00,   0.00000000e+00,   6.95914766e+04],\n",
       "       ..., \n",
       "       [  2.00000000e+00,   2.60000000e+01,   0.00000000e+00, ...,\n",
       "          0.00000000e+00,   0.00000000e+00,   6.91118672e+04],\n",
       "       [  2.00000000e+00,   7.50000000e+01,   0.00000000e+00, ...,\n",
       "          0.00000000e+00,   0.00000000e+00,   1.17310977e+05],\n",
       "       [  2.00000000e+00,   6.10000000e+01,   0.00000000e+00, ...,\n",
       "          0.00000000e+00,   0.00000000e+00,   8.36671484e+04]], dtype=float32)"
      ]
     },
     "execution_count": 68,
     "metadata": {},
     "output_type": "execute_result"
    }
   ],
   "source": [
    "import numpy as np\n",
    "import theano\n",
    "np.asarray(rbm_input.as_matrix(), dtype=theano.config.floatX)"
   ]
  },
  {
   "cell_type": "code",
   "execution_count": null,
   "metadata": {
    "collapsed": true
   },
   "outputs": [],
   "source": []
  }
 ],
 "metadata": {
  "kernelspec": {
   "display_name": "Python 2",
   "language": "python",
   "name": "python2"
  },
  "language_info": {
   "codemirror_mode": {
    "name": "ipython",
    "version": 2
   },
   "file_extension": ".py",
   "mimetype": "text/x-python",
   "name": "python",
   "nbconvert_exporter": "python",
   "pygments_lexer": "ipython2",
   "version": "2.7.11"
  }
 },
 "nbformat": 4,
 "nbformat_minor": 0
}
